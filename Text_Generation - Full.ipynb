{
 "cells": [
  {
   "cell_type": "markdown",
   "metadata": {
    "colab_type": "text",
    "id": "BtBVivnAPGNG"
   },
   "source": [
    "# Recurrent Network"
   ]
  },
  {
   "cell_type": "markdown",
   "metadata": {
    "colab_type": "text",
    "id": "eSwnoHvoPGNK"
   },
   "source": [
    "## What is it and Why?"
   ]
  },
  {
   "cell_type": "markdown",
   "metadata": {},
   "source": [
    "A RNN is a prediction model used in Natural Language Processing (NLP). Usually it is used to predict a next word after another or a whole sentence (or even many phrases). "
   ]
  },
  {
   "cell_type": "markdown",
   "metadata": {},
   "source": [
    "For example, if we have to predict what comes next after 'My like likes to drink [.......]', one may say milk while others guess water. A model is trained on many other phrases and using the data it's seen previously, it tries to output a word that is the most likely."
   ]
  },
  {
   "cell_type": "markdown",
   "metadata": {},
   "source": [
    "More details about NLP will be covered in later posts and here I will only show what and how I used a recurrent model."
   ]
  },
  {
   "cell_type": "markdown",
   "metadata": {
    "colab_type": "text",
    "id": "JAF220YhPGNO"
   },
   "source": [
    "The goal is to generate headlines given a starting word. Due to the limitation of time and computing power, a model I will show later may not be working very well but it still demonstrates how to use recurrent model to predict following words."
   ]
  },
  {
   "cell_type": "markdown",
   "metadata": {},
   "source": [
    "Next is an example generation of a headline using the phrase \"let's start this post by\" with model_20_500 model which will be shown shortly."
   ]
  },
  {
   "cell_type": "code",
   "execution_count": 95,
   "metadata": {
    "ExecuteTime": {
     "end_time": "2019-06-02T08:42:12.269537Z",
     "start_time": "2019-06-02T08:42:10.722155Z"
    }
   },
   "outputs": [
    {
     "name": "stdout",
     "output_type": "stream",
     "text": [
      "INFO:tensorflow:Restoring parameters from model/model_20_500\n",
      "Model model_20_500 Restored\n"
     ]
    },
    {
     "data": {
      "text/plain": [
       "[\"<START> let's start this post by facebook privacy scandal ? a guide for the social network can help shop online\"]"
      ]
     },
     "execution_count": 95,
     "metadata": {},
     "output_type": "execute_result"
    }
   ],
   "source": [
    "generate_headlines(model_20_500, [\"let's start this post by\"], input_length=20, rnn_size=500)"
   ]
  },
  {
   "cell_type": "markdown",
   "metadata": {
    "colab_type": "text",
    "id": "kUGU9FxePGNP"
   },
   "source": [
    "## Data Exploration"
   ]
  },
  {
   "cell_type": "markdown",
   "metadata": {
    "colab_type": "text",
    "id": "P-mORsL5PGNR"
   },
   "source": [
    "The data I used is from UC Berkeley's CS182 (Designing, Visualizing and Understanding Deep Neural Networks). However, the page is currently removed and I do not know if I can share it without their saying so, I don't think I can share it. But similar data can be downloaded from Kaggle's Dataset."
   ]
  },
  {
   "cell_type": "code",
   "execution_count": 1,
   "metadata": {
    "ExecuteTime": {
     "end_time": "2019-06-02T06:06:41.941247Z",
     "start_time": "2019-06-02T06:06:40.067433Z"
    },
    "colab": {},
    "colab_type": "code",
    "id": "_y4dELxWPGNS"
   },
   "outputs": [],
   "source": [
    "from segtok import tokenizer\n",
    "from collections import Counter\n",
    "import tensorflow as tf\n",
    "import numpy as np\n",
    "import json\n",
    "import os\n",
    "import time\n",
    "import pandas as pd\n",
    "import matplotlib.pyplot as plt"
   ]
  },
  {
   "cell_type": "code",
   "execution_count": 2,
   "metadata": {
    "ExecuteTime": {
     "end_time": "2019-06-02T06:06:47.636939Z",
     "start_time": "2019-06-02T06:06:46.867880Z"
    },
    "colab": {},
    "colab_type": "code",
    "id": "p23hZyKqPGNX"
   },
   "outputs": [],
   "source": [
    "data_path = 'data/'\n",
    "\n",
    "with open(data_path+'headline_generation_dataset_processed.json', \"r\") as f:\n",
    "    dataset = json.load(f)\n",
    "\n",
    "with open(data_path+'headline_generation_vocabulary.txt', \"r\") as f:\n",
    "    vocabulary = f.read().split(\"\\n\")"
   ]
  },
  {
   "cell_type": "code",
   "execution_count": 3,
   "metadata": {
    "ExecuteTime": {
     "end_time": "2019-06-02T06:06:47.643357Z",
     "start_time": "2019-06-02T06:06:47.638979Z"
    },
    "colab": {
     "base_uri": "https://localhost:8080/",
     "height": 51
    },
    "colab_type": "code",
    "id": "2PXKxd9bPGNa",
    "outputId": "d4c76966-57e7-46c9-9e82-7143fb3a1f5d"
   },
   "outputs": [
    {
     "name": "stdout",
     "output_type": "stream",
     "text": [
      "Number of data samples is 89514\n",
      "Number of vocabulary is 10000\n"
     ]
    }
   ],
   "source": [
    "print(f'Number of data samples is {len(dataset)}')\n",
    "print(f'Number of vocabulary is {len(vocabulary)}')"
   ]
  },
  {
   "cell_type": "markdown",
   "metadata": {
    "colab_type": "text",
    "id": "3oGzmnDdPGNh"
   },
   "source": [
    "First, let's examine what dataset looks like."
   ]
  },
  {
   "cell_type": "code",
   "execution_count": 7,
   "metadata": {
    "ExecuteTime": {
     "end_time": "2019-05-30T20:46:50.198428Z",
     "start_time": "2019-05-30T20:46:50.178065Z"
    },
    "colab": {
     "base_uri": "https://localhost:8080/",
     "height": 768
    },
    "colab_type": "code",
    "id": "3Z2IUoXkPGNi",
    "outputId": "b3322c42-665e-4800-b09e-7115fef84307"
   },
   "outputs": [
    {
     "data": {
      "text/plain": [
       "{'cut': 'training',\n",
       " 'mask': [True,\n",
       "  True,\n",
       "  True,\n",
       "  True,\n",
       "  True,\n",
       "  True,\n",
       "  True,\n",
       "  True,\n",
       "  True,\n",
       "  True,\n",
       "  True,\n",
       "  False,\n",
       "  False,\n",
       "  False,\n",
       "  False,\n",
       "  False,\n",
       "  False,\n",
       "  False,\n",
       "  False,\n",
       "  False],\n",
       " 'numerized': [1958,\n",
       "  11,\n",
       "  5,\n",
       "  1,\n",
       "  256,\n",
       "  6490,\n",
       "  19,\n",
       "  895,\n",
       "  1,\n",
       "  1,\n",
       "  1,\n",
       "  2,\n",
       "  2,\n",
       "  2,\n",
       "  2,\n",
       "  2,\n",
       "  2,\n",
       "  2,\n",
       "  2,\n",
       "  2],\n",
       " 'title': 'Forget the Apple Watch. Set Reminders With These Elegant Mechanical Timepieces',\n",
       " 'url': 'https://www.bloomberg.com/news/articles/2018-04-06/forget-the-apple-watch-set-reminders-with-these-elegant-mechanical-timepieces'}"
      ]
     },
     "execution_count": 7,
     "metadata": {
      "tags": []
     },
     "output_type": "execute_result"
    }
   ],
   "source": [
    "dataset[0]"
   ]
  },
  {
   "cell_type": "markdown",
   "metadata": {
    "colab_type": "text",
    "id": "9JpDl1MiPGNn"
   },
   "source": [
    "This data is already preprocessed so that all headlines have the same fixed length. Some headlines may be shorter than the other so to make them the same, padding was added to match."
   ]
  },
  {
   "cell_type": "markdown",
   "metadata": {
    "colab_type": "text",
    "id": "sK49mDByPGNo"
   },
   "source": [
    "1. cut : indicates whether a sample is training or validation\n",
    "2. title : News Headlines that we are going to use for both training and evaluation\n",
    "3. url : The origin of each headline\n",
    "4. mask : If True, it is an actual word in a headline. If False, it is a padding\n",
    "5. numerzied : Maps a word to an index of vocabulary"
   ]
  },
  {
   "cell_type": "code",
   "execution_count": 8,
   "metadata": {
    "ExecuteTime": {
     "end_time": "2019-05-30T20:52:18.880578Z",
     "start_time": "2019-05-30T20:52:18.873094Z"
    },
    "colab": {
     "base_uri": "https://localhost:8080/",
     "height": 34
    },
    "colab_type": "code",
    "id": "fUsHCNrRPGNp",
    "outputId": "63f312e5-2434-46c0-d26a-6017dfc7e45e"
   },
   "outputs": [
    {
     "data": {
      "text/plain": [
       "['<START>', 'UNK', 'PAD', 'to', ',', 'apple', 'facebook', 'google', \"'\", 'in']"
      ]
     },
     "execution_count": 8,
     "metadata": {
      "tags": []
     },
     "output_type": "execute_result"
    }
   ],
   "source": [
    "vocabulary[:10]"
   ]
  },
  {
   "cell_type": "code",
   "execution_count": 4,
   "metadata": {
    "ExecuteTime": {
     "end_time": "2019-06-02T06:06:52.917746Z",
     "start_time": "2019-06-02T06:06:52.906894Z"
    },
    "colab": {},
    "colab_type": "code",
    "id": "Pfkc86g5PGNv"
   },
   "outputs": [],
   "source": [
    "# indices for start, padding and unknown\n",
    "start, pad, unk = 0, 2, 1"
   ]
  },
  {
   "cell_type": "markdown",
   "metadata": {
    "colab_type": "text",
    "id": "4MkRjOYCPGNy"
   },
   "source": [
    "<b>START</b> indicates the beginning position in a headline.<br> \n",
    "<b>PAD</b> indicates a padding added to a headline to match the length.<br>\n",
    "<b>UNK</b> indicates an unknown word. This happens when vocabulary doesn't have a word which is used in samples."
   ]
  },
  {
   "cell_type": "markdown",
   "metadata": {
    "colab_type": "text",
    "id": "0zdyP8HCPGNz"
   },
   "source": [
    "The words in vocabulary are already sorted so each index corresponds to numerized values."
   ]
  },
  {
   "cell_type": "markdown",
   "metadata": {
    "colab_type": "text",
    "id": "95sh_xBUPGN0"
   },
   "source": [
    "First thing to do is to make a mapping from word to index so that we can use numerized element in samples."
   ]
  },
  {
   "cell_type": "code",
   "execution_count": 5,
   "metadata": {
    "ExecuteTime": {
     "end_time": "2019-06-02T06:06:56.245426Z",
     "start_time": "2019-06-02T06:06:56.226637Z"
    },
    "colab": {
     "base_uri": "https://localhost:8080/",
     "height": 34
    },
    "colab_type": "code",
    "id": "4IXol1UnPGN1",
    "outputId": "f2b84d90-5173-4f86-9784-6b344c5d72dd"
   },
   "outputs": [
    {
     "data": {
      "text/plain": [
       "7"
      ]
     },
     "execution_count": 5,
     "metadata": {},
     "output_type": "execute_result"
    }
   ],
   "source": [
    "vocab_size = len(vocabulary)\n",
    "\n",
    "word_to_index = {word:index for index, word in enumerate(vocabulary)}\n",
    "word_to_index['google']"
   ]
  },
  {
   "cell_type": "markdown",
   "metadata": {
    "colab_type": "text",
    "id": "i47mn7D4PGN6"
   },
   "source": [
    "Another thing I need was translating a list of numerized to a string headline."
   ]
  },
  {
   "cell_type": "code",
   "execution_count": 6,
   "metadata": {
    "ExecuteTime": {
     "end_time": "2019-06-02T06:06:57.823101Z",
     "start_time": "2019-06-02T06:06:57.807179Z"
    },
    "colab": {},
    "colab_type": "code",
    "id": "hIgYlz-SPGN7"
   },
   "outputs": [],
   "source": [
    "sample = dataset[10]\n",
    "\n",
    "sample_headline = sample['title']\n",
    "sample_mask = sample['mask']\n",
    "sample_numerized = sample['numerized']"
   ]
  },
  {
   "cell_type": "code",
   "execution_count": 7,
   "metadata": {
    "ExecuteTime": {
     "end_time": "2019-06-02T06:06:58.432419Z",
     "start_time": "2019-06-02T06:06:58.411614Z"
    },
    "colab": {},
    "colab_type": "code",
    "id": "gaCVKyqqPGN_"
   },
   "outputs": [],
   "source": [
    "def translate_numerized(numerized):\n",
    "    \n",
    "    headline = [vocabulary[word] for word in numerized if vocabulary[word] != 'PAD']\n",
    "    \n",
    "    return ' '.join(headline)"
   ]
  },
  {
   "cell_type": "code",
   "execution_count": 8,
   "metadata": {
    "ExecuteTime": {
     "end_time": "2019-06-02T06:06:58.754835Z",
     "start_time": "2019-06-02T06:06:58.741431Z"
    },
    "colab": {
     "base_uri": "https://localhost:8080/",
     "height": 34
    },
    "colab_type": "code",
    "id": "KWgo-Qa9PGOE",
    "outputId": "ddce130f-cac6-4422-ec8f-422fb096085f"
   },
   "outputs": [
    {
     "data": {
      "text/plain": [
       "'can you pass the intelligence test solved by millions on facebook ?'"
      ]
     },
     "execution_count": 8,
     "metadata": {},
     "output_type": "execute_result"
    }
   ],
   "source": [
    "translate_numerized(sample_numerized)"
   ]
  },
  {
   "cell_type": "markdown",
   "metadata": {
    "colab_type": "text",
    "id": "sZnPILB7PGOJ"
   },
   "source": [
    "Another thing I need is to numerize a given sentence."
   ]
  },
  {
   "cell_type": "code",
   "execution_count": 9,
   "metadata": {
    "ExecuteTime": {
     "end_time": "2019-06-02T06:07:00.593511Z",
     "start_time": "2019-06-02T06:07:00.583283Z"
    },
    "colab": {},
    "colab_type": "code",
    "id": "BbMV4UBMPGOK"
   },
   "outputs": [],
   "source": [
    "def numerize(sentence):\n",
    "    \n",
    "    tokens = tokenizer.word_tokenizer(sentence)\n",
    "    \n",
    "    numerized = [word_to_index.get(token.lower(), unk) for token in tokens]\n",
    "    \n",
    "    return numerized"
   ]
  },
  {
   "cell_type": "code",
   "execution_count": 10,
   "metadata": {
    "ExecuteTime": {
     "end_time": "2019-06-02T06:07:00.872065Z",
     "start_time": "2019-06-02T06:07:00.858674Z"
    },
    "colab": {
     "base_uri": "https://localhost:8080/",
     "height": 34
    },
    "colab_type": "code",
    "id": "3OIJgnizPGOO",
    "outputId": "e229c3fc-ef22-4878-ac01-4d4504ecfcf6"
   },
   "outputs": [
    {
     "data": {
      "text/plain": [
       "[92, 47, 2602, 11, 884, 438, 7274, 34, 932, 10, 6, 33]"
      ]
     },
     "execution_count": 10,
     "metadata": {},
     "output_type": "execute_result"
    }
   ],
   "source": [
    "numerize(sample_headline)"
   ]
  },
  {
   "cell_type": "markdown",
   "metadata": {
    "colab_type": "text",
    "id": "vfpd9f3pPGOU"
   },
   "source": [
    "In the dataset, any non-alphabet characters are treated as a separate word and that is why there is a space between the question mark and 'facebook' in the sample. "
   ]
  },
  {
   "cell_type": "code",
   "execution_count": 11,
   "metadata": {
    "ExecuteTime": {
     "end_time": "2019-06-02T06:07:01.725909Z",
     "start_time": "2019-06-02T06:07:01.628349Z"
    },
    "colab": {
     "base_uri": "https://localhost:8080/",
     "height": 34
    },
    "colab_type": "code",
    "id": "GYFyvjRGPGOV",
    "outputId": "89ff4e82-8156-46c4-946a-6b5197ed7a46"
   },
   "outputs": [
    {
     "data": {
      "text/plain": [
       "(88568, 946)"
      ]
     },
     "execution_count": 11,
     "metadata": {},
     "output_type": "execute_result"
    }
   ],
   "source": [
    "train_data = [data for data in dataset if data['cut'] == 'training']\n",
    "valid_data = [data for data in dataset if data['cut'] == 'validation']\n",
    "\n",
    "len(train_data), len(valid_data)"
   ]
  },
  {
   "cell_type": "markdown",
   "metadata": {
    "colab_type": "text",
    "id": "hvWayXANPGOe"
   },
   "source": [
    "# Code"
   ]
  },
  {
   "cell_type": "markdown",
   "metadata": {
    "colab_type": "text",
    "id": "9ZxRzGF1PGOf"
   },
   "source": [
    "## Class Definition"
   ]
  },
  {
   "cell_type": "code",
   "execution_count": 12,
   "metadata": {
    "ExecuteTime": {
     "end_time": "2019-06-02T06:07:03.522619Z",
     "start_time": "2019-06-02T06:07:03.502496Z"
    },
    "colab": {},
    "colab_type": "code",
    "id": "iodW4cwhPGOh"
   },
   "outputs": [],
   "source": [
    "class Model():\n",
    "\n",
    "    def __init__(self, input_length, vocab_size, rnn_size, learning_rate=1e-4, momentum=.85, decay=.9, beta1=.9, beta2=.99):\n",
    "        \n",
    "        self.input_num = tf.placeholder(tf.int32, shape=[None, input_length])\n",
    "        self.targets = tf.placeholder(tf.int32, shape=[None, input_length])\n",
    "        self.targets_mask = tf.placeholder(tf.bool, shape=[None, input_length])\n",
    "\n",
    "        # Each vocab will have an embedding of rnn_size\n",
    "        embedding = tf.get_variable('word_embeddings', [vocab_size, rnn_size])\n",
    "        \n",
    "        # Look up embedding of input_num\n",
    "        input_emb = tf.nn.embedding_lookup(embedding, self.input_num)\n",
    "\n",
    "        # LSTM cell for rnn\n",
    "        lm_cell = tf.nn.rnn_cell.LSTMCell(rnn_size)\n",
    "        lm_cell = tf.nn.rnn_cell.DropoutWrapper(lm_cell, .5, 1)\n",
    "        \n",
    "        # Run sequence of LSTM cells\n",
    "        # dynamic_rnn returns outputs and states.\n",
    "        # states are not used here so I didn't save it\n",
    "        outputs, _ = tf.nn.dynamic_rnn(lm_cell, input_emb, dtype=tf.float32)\n",
    "\n",
    "        self.logits = tf.layers.dense(outputs, vocab_size)\n",
    "        \n",
    "        # mask weights so that only non-pad words are considered\n",
    "        self.loss = tf.losses.sparse_softmax_cross_entropy(self.targets, self.logits, weights=tf.cast(self.targets_mask, dtype=np.float32))\n",
    "        \n",
    "        self.optimizer = tf.train.AdamOptimizer(learning_rate=learning_rate, beta1=beta1, beta2=beta2).minimize(self.loss)\n",
    "\n",
    "        self.saver = tf.train.Saver()"
   ]
  },
  {
   "cell_type": "code",
   "execution_count": 13,
   "metadata": {
    "ExecuteTime": {
     "end_time": "2019-06-02T06:07:04.038472Z",
     "start_time": "2019-06-02T06:07:04.020193Z"
    },
    "colab": {},
    "colab_type": "code",
    "id": "_O5l614PPGOk"
   },
   "outputs": [],
   "source": [
    "def load_data(dataset, batch_size):\n",
    "    \n",
    "    batch = np.random.choice(dataset, size=batch_size, replace=False)\n",
    "    \n",
    "    batch_numerized = [d['numerized'] for d in batch]\n",
    "\n",
    "    # Shift words and add start token\n",
    "    start_tokens = np.array([0]*batch_size).reshape(-1, 1)\n",
    "    batch_input = np.concatenate((start_tokens, batch_numerized), axis=1)\n",
    "    \n",
    "    # Remove Target token\n",
    "    batch_input = batch_input[:, :-1]\n",
    "    \n",
    "    # Set Target\n",
    "    batch_target = batch_numerized\n",
    "    \n",
    "    # Mask of each words\n",
    "    batch_target_mask = np.array([a['mask'] for a in batch])\n",
    "    \n",
    "    return batch_input, batch_target, batch_target_mask"
   ]
  },
  {
   "cell_type": "markdown",
   "metadata": {
    "colab_type": "text",
    "id": "XZfBpAOpPGOn"
   },
   "source": [
    "## Train"
   ]
  },
  {
   "cell_type": "code",
   "execution_count": 14,
   "metadata": {
    "ExecuteTime": {
     "end_time": "2019-06-02T06:07:05.844096Z",
     "start_time": "2019-06-02T06:07:05.770835Z"
    },
    "colab": {},
    "colab_type": "code",
    "id": "2AETrfJUaMnT"
   },
   "outputs": [],
   "source": [
    "def train_model(model_name, input_length=20, rnn_size=750, \n",
    "                learning_rate=1e-3, batch_size=300, beta1=.85, beta2=.8, \n",
    "                epochs=50, iter_ver=10, load_model=True):\n",
    "  \n",
    "    tf.reset_default_graph() \n",
    "\n",
    "    if not os.path.exists('model/'):\n",
    "        os.mkdir('model/')\n",
    "\n",
    "    model_path = 'model/'\n",
    "\n",
    "    model = Model(input_length=input_length, vocab_size=vocab_size, rnn_size=rnn_size, learning_rate=learning_rate, beta1=beta1, beta2=beta2)\n",
    "\n",
    "    with tf.Session() as sess:\n",
    "\n",
    "        sess.run(tf.global_variables_initializer())\n",
    "\n",
    "        if load_model:\n",
    "            try:\n",
    "                model.saver.restore(sess, model_path+model_name)\n",
    "                print(f'Model {model_name} Restored')\n",
    "            except:\n",
    "                print(f'Training a new Model : {model_name}')\n",
    "                \n",
    "        else:\n",
    "            print(f'Training a new Model : {model_name}')\n",
    "\n",
    "        \n",
    "        train_losses = []\n",
    "        valid_losses = []\n",
    "        \n",
    "        \n",
    "        for i in range(epochs):\n",
    "\n",
    "            start = time.time()\n",
    "\n",
    "            for j in range(300):\n",
    "\n",
    "                input_num, batch_target, batch_target_mask = load_data(train_data, batch_size)\n",
    "\n",
    "                feed = {model.input_num: input_num, model.targets: batch_target, model.targets_mask: batch_target_mask}\n",
    "\n",
    "                train_loss, j = sess.run([model.loss, model.optimizer], feed_dict=feed)\n",
    "\n",
    "            end = time.time()\n",
    "            \n",
    "            \n",
    "            # Validation Loss\n",
    "            \n",
    "            valid_input, valid_target, valid_target_mask = load_data(valid_data, batch_size)\n",
    "\n",
    "            feed = {model.input_num: valid_input, model.targets: valid_target, model.targets_mask: valid_target_mask}\n",
    "\n",
    "            valid_loss = sess.run(model.loss, feed_dict=feed)\n",
    "\n",
    "\n",
    "            if (i+1) % iter_ver == 0:\n",
    "                print(f'Time : {int(end - start)} Epoch : {i+1} Train Loss : {train_loss} Valid Loss : {valid_loss}')\n",
    "  \n",
    "            train_losses.append(train_loss)\n",
    "            valid_losses.append(valid_loss)\n",
    "\n",
    "      \n",
    "            # Save at every 10 epochs\n",
    "            if (i+1) % 10 == 0:\n",
    "                model.saver.save(sess, model_path+model_name)\n",
    "                print(f'\\n===== Model {model_name} saved =====\\n')\n",
    "          \n",
    "          \n",
    "    return (train_losses, valid_losses)"
   ]
  },
  {
   "cell_type": "code",
   "execution_count": 15,
   "metadata": {
    "ExecuteTime": {
     "end_time": "2019-06-02T06:07:07.431366Z",
     "start_time": "2019-06-02T06:07:07.415002Z"
    },
    "colab": {},
    "colab_type": "code",
    "id": "TVXNnuGgbPHD"
   },
   "outputs": [],
   "source": [
    "# model with different rembedding sizes\n",
    "\n",
    "model_20_250 = 'model_20_250'\n",
    "model_20_500 = 'model_20_500'\n",
    "model_20_750 = 'model_20_750'\n",
    "model_20_1000 = 'model_20_1000'"
   ]
  },
  {
   "cell_type": "code",
   "execution_count": 29,
   "metadata": {
    "colab": {
     "base_uri": "https://localhost:8080/",
     "height": 374
    },
    "colab_type": "code",
    "id": "Us4g0ZuvbmJe",
    "outputId": "f463b5b1-50b0-41e1-9355-33eb02d2d1ba"
   },
   "outputs": [
    {
     "name": "stdout",
     "output_type": "stream",
     "text": [
      "Training a new Model : model_20_250\n",
      "Time : 19 Epoch : 1 Train Loss : 6.521451950073242 Valid Loss : 6.604078769683838\n",
      "Time : 19 Epoch : 2 Train Loss : 6.191676139831543 Valid Loss : 6.258332252502441\n",
      "Time : 19 Epoch : 3 Train Loss : 5.802998065948486 Valid Loss : 5.972076892852783\n",
      "Time : 18 Epoch : 4 Train Loss : 5.657375812530518 Valid Loss : 5.823077201843262\n",
      "Time : 19 Epoch : 5 Train Loss : 5.5470499992370605 Valid Loss : 5.685995578765869\n",
      "Time : 18 Epoch : 6 Train Loss : 5.4077229499816895 Valid Loss : 5.600042343139648\n",
      "Time : 18 Epoch : 7 Train Loss : 5.407564163208008 Valid Loss : 5.594792366027832\n",
      "Time : 18 Epoch : 8 Train Loss : 5.223485469818115 Valid Loss : 5.543225288391113\n",
      "Time : 19 Epoch : 9 Train Loss : 5.269318103790283 Valid Loss : 5.4890456199646\n",
      "Time : 18 Epoch : 10 Train Loss : 5.151086807250977 Valid Loss : 5.4974822998046875\n",
      "Time : 18 Epoch : 11 Train Loss : 5.090558052062988 Valid Loss : 5.521342754364014\n",
      "Time : 18 Epoch : 12 Train Loss : 4.9680047035217285 Valid Loss : 5.512088298797607\n",
      "Time : 19 Epoch : 13 Train Loss : 5.012817859649658 Valid Loss : 5.536990165710449\n",
      "Time : 18 Epoch : 14 Train Loss : 5.03235387802124 Valid Loss : 5.405229091644287\n",
      "Time : 18 Epoch : 15 Train Loss : 4.891358852386475 Valid Loss : 5.539577007293701\n",
      "Time : 18 Epoch : 16 Train Loss : 4.860981464385986 Valid Loss : 5.336805820465088\n",
      "Time : 18 Epoch : 17 Train Loss : 4.90013313293457 Valid Loss : 5.415666103363037\n",
      "Time : 19 Epoch : 18 Train Loss : 4.848421573638916 Valid Loss : 5.386229038238525\n",
      "Time : 19 Epoch : 19 Train Loss : 4.772733211517334 Valid Loss : 5.368454456329346\n",
      "Time : 18 Epoch : 20 Train Loss : 4.844111442565918 Valid Loss : 5.491779327392578\n"
     ]
    }
   ],
   "source": [
    "# Took about 7 minutes\n",
    "\n",
    "model_20_250_losses = train_model(model_name=model_20_250, rnn_size=250, iter_ver=1, epochs=20, load_model=False)"
   ]
  },
  {
   "cell_type": "code",
   "execution_count": 32,
   "metadata": {
    "colab": {
     "base_uri": "https://localhost:8080/",
     "height": 476
    },
    "colab_type": "code",
    "id": "RZ2T0HHtbon0",
    "outputId": "c0584985-8d36-4bd5-8383-83eb6bfca958"
   },
   "outputs": [
    {
     "name": "stdout",
     "output_type": "stream",
     "text": [
      "Training a new Model : model_20_500\n",
      "Time : 31 Epoch : 1 Train Loss : 6.290328502655029 Valid Loss : 6.409896373748779\n",
      "Time : 30 Epoch : 2 Train Loss : 5.906001567840576 Valid Loss : 5.892825126647949\n",
      "Time : 30 Epoch : 3 Train Loss : 5.54813289642334 Valid Loss : 5.746621608734131\n",
      "Time : 30 Epoch : 4 Train Loss : 5.278981685638428 Valid Loss : 5.661812782287598\n",
      "Time : 30 Epoch : 5 Train Loss : 5.29741907119751 Valid Loss : 5.633823871612549\n",
      "Time : 30 Epoch : 6 Train Loss : 5.061626434326172 Valid Loss : 5.496407985687256\n",
      "Time : 30 Epoch : 7 Train Loss : 5.070347785949707 Valid Loss : 5.540763854980469\n",
      "Time : 30 Epoch : 8 Train Loss : 4.845116138458252 Valid Loss : 5.439145565032959\n",
      "Time : 30 Epoch : 9 Train Loss : 4.731771469116211 Valid Loss : 5.389241695404053\n",
      "Time : 30 Epoch : 10 Train Loss : 4.6543989181518555 Valid Loss : 5.339622974395752\n",
      "\n",
      "===== Model model_20_500 saved =====\n",
      "\n",
      "Time : 30 Epoch : 11 Train Loss : 4.660418510437012 Valid Loss : 5.396697044372559\n",
      "Time : 30 Epoch : 12 Train Loss : 4.57363224029541 Valid Loss : 5.370182514190674\n",
      "Time : 30 Epoch : 13 Train Loss : 4.404289245605469 Valid Loss : 5.407248020172119\n",
      "Time : 30 Epoch : 14 Train Loss : 4.3906779289245605 Valid Loss : 5.3517842292785645\n",
      "Time : 30 Epoch : 15 Train Loss : 4.274456024169922 Valid Loss : 5.4311394691467285\n",
      "Time : 30 Epoch : 16 Train Loss : 4.4022932052612305 Valid Loss : 5.4341654777526855\n",
      "Time : 30 Epoch : 17 Train Loss : 4.397609710693359 Valid Loss : 5.379759311676025\n",
      "Time : 30 Epoch : 18 Train Loss : 4.347304821014404 Valid Loss : 5.444421768188477\n",
      "Time : 30 Epoch : 19 Train Loss : 4.238630294799805 Valid Loss : 5.342272758483887\n",
      "Time : 30 Epoch : 20 Train Loss : 4.198734283447266 Valid Loss : 5.389731407165527\n",
      "\n",
      "===== Model model_20_500 saved =====\n",
      "\n"
     ]
    }
   ],
   "source": [
    "# Took about 10 minutes\n",
    "\n",
    "model_20_500_losses = train_model(model_name=model_20_500, rnn_size=500, iter_ver=1, epochs=20, load_model=False)"
   ]
  },
  {
   "cell_type": "code",
   "execution_count": 69,
   "metadata": {
    "colab": {
     "base_uri": "https://localhost:8080/",
     "height": 476
    },
    "colab_type": "code",
    "id": "X6uhRXdPbohd",
    "outputId": "48db48a4-7dba-488d-de12-d982cffd4946"
   },
   "outputs": [
    {
     "name": "stdout",
     "output_type": "stream",
     "text": [
      "Training a new Model : model_20_750\n",
      "Time : 47 Epoch : 1 Train Loss : 6.1389970779418945 Valid Loss : 6.1926984786987305\n",
      "Time : 46 Epoch : 2 Train Loss : 5.594339847564697 Valid Loss : 5.8611931800842285\n",
      "Time : 47 Epoch : 3 Train Loss : 5.416676044464111 Valid Loss : 5.625517845153809\n",
      "Time : 46 Epoch : 4 Train Loss : 4.947951316833496 Valid Loss : 5.519547939300537\n",
      "Time : 47 Epoch : 5 Train Loss : 4.95191764831543 Valid Loss : 5.4528422355651855\n",
      "Time : 47 Epoch : 6 Train Loss : 4.656552314758301 Valid Loss : 5.410458564758301\n",
      "Time : 46 Epoch : 7 Train Loss : 4.487500190734863 Valid Loss : 5.385641574859619\n",
      "Time : 47 Epoch : 8 Train Loss : 4.506504535675049 Valid Loss : 5.50782585144043\n",
      "Time : 47 Epoch : 9 Train Loss : 4.389082431793213 Valid Loss : 5.436454772949219\n",
      "Time : 46 Epoch : 10 Train Loss : 4.239155292510986 Valid Loss : 5.48450231552124\n",
      "\n",
      "===== Model model_20_750 saved =====\n",
      "\n",
      "Time : 47 Epoch : 11 Train Loss : 4.178558826446533 Valid Loss : 5.415424823760986\n",
      "Time : 47 Epoch : 12 Train Loss : 4.1129560470581055 Valid Loss : 5.353113174438477\n",
      "Time : 47 Epoch : 13 Train Loss : 3.994833469390869 Valid Loss : 5.501667499542236\n",
      "Time : 46 Epoch : 14 Train Loss : 3.8501088619232178 Valid Loss : 5.500241756439209\n",
      "Time : 47 Epoch : 15 Train Loss : 3.7922282218933105 Valid Loss : 5.576651096343994\n",
      "Time : 47 Epoch : 16 Train Loss : 3.715085029602051 Valid Loss : 5.601257801055908\n",
      "Time : 46 Epoch : 17 Train Loss : 3.7551517486572266 Valid Loss : 5.482297420501709\n",
      "Time : 46 Epoch : 18 Train Loss : 3.6295158863067627 Valid Loss : 5.592514514923096\n",
      "Time : 46 Epoch : 19 Train Loss : 3.676734209060669 Valid Loss : 5.611507415771484\n",
      "Time : 46 Epoch : 20 Train Loss : 3.5860989093780518 Valid Loss : 5.653334617614746\n",
      "\n",
      "===== Model model_20_750 saved =====\n",
      "\n"
     ]
    }
   ],
   "source": [
    "# Took about 16 minutes\n",
    "\n",
    "model_20_750_losses = train_model(model_name=model_20_750, rnn_size=750, iter_ver=1, epochs=20, load_model=False)"
   ]
  },
  {
   "cell_type": "code",
   "execution_count": 70,
   "metadata": {
    "colab": {
     "base_uri": "https://localhost:8080/",
     "height": 476
    },
    "colab_type": "code",
    "id": "lpe6iBDCboYl",
    "outputId": "92329907-a8b4-4529-a522-6d211c86cc7a"
   },
   "outputs": [
    {
     "name": "stdout",
     "output_type": "stream",
     "text": [
      "Training a new Model : model_20_1000\n",
      "Time : 67 Epoch : 1 Train Loss : 6.116085529327393 Valid Loss : 6.189640045166016\n",
      "Time : 67 Epoch : 2 Train Loss : 5.5112504959106445 Valid Loss : 5.724303245544434\n",
      "Time : 67 Epoch : 3 Train Loss : 5.151978969573975 Valid Loss : 5.583501815795898\n",
      "Time : 67 Epoch : 4 Train Loss : 5.004917621612549 Valid Loss : 5.457799911499023\n",
      "Time : 67 Epoch : 5 Train Loss : 4.716437339782715 Valid Loss : 5.398298740386963\n",
      "Time : 67 Epoch : 6 Train Loss : 4.456024646759033 Valid Loss : 5.4200758934021\n",
      "Time : 67 Epoch : 7 Train Loss : 4.233898639678955 Valid Loss : 5.400672912597656\n",
      "Time : 67 Epoch : 8 Train Loss : 4.05080509185791 Valid Loss : 5.503702163696289\n",
      "Time : 67 Epoch : 9 Train Loss : 3.8865251541137695 Valid Loss : 5.429373741149902\n",
      "Time : 67 Epoch : 10 Train Loss : 3.7687785625457764 Valid Loss : 5.409214019775391\n",
      "\n",
      "===== Model model_20_1000 saved =====\n",
      "\n",
      "Time : 67 Epoch : 11 Train Loss : 3.8164422512054443 Valid Loss : 5.518129348754883\n",
      "Time : 67 Epoch : 12 Train Loss : 3.529740810394287 Valid Loss : 5.615565776824951\n",
      "Time : 67 Epoch : 13 Train Loss : 3.6172564029693604 Valid Loss : 5.745477199554443\n",
      "Time : 67 Epoch : 14 Train Loss : 3.3971619606018066 Valid Loss : 5.674541473388672\n",
      "Time : 67 Epoch : 15 Train Loss : 3.2620558738708496 Valid Loss : 5.634144306182861\n",
      "Time : 67 Epoch : 16 Train Loss : 3.134613513946533 Valid Loss : 5.71579122543335\n",
      "Time : 67 Epoch : 17 Train Loss : 3.2164762020111084 Valid Loss : 5.724960803985596\n",
      "Time : 67 Epoch : 18 Train Loss : 2.94749116897583 Valid Loss : 5.780954360961914\n",
      "Time : 67 Epoch : 19 Train Loss : 3.0615322589874268 Valid Loss : 5.765078544616699\n",
      "Time : 67 Epoch : 20 Train Loss : 3.0173232555389404 Valid Loss : 5.820944786071777\n",
      "\n",
      "===== Model model_20_1000 saved =====\n",
      "\n"
     ]
    }
   ],
   "source": [
    "# Took about 22 minutes\n",
    "\n",
    "model_20_1000_losses = train_model(model_name=model_20_1000, rnn_size=1000, iter_ver=1, epochs=20, load_model=False)"
   ]
  },
  {
   "cell_type": "code",
   "execution_count": 17,
   "metadata": {
    "ExecuteTime": {
     "end_time": "2019-06-02T06:08:02.176836Z",
     "start_time": "2019-06-02T06:08:02.156548Z"
    }
   },
   "outputs": [],
   "source": [
    "model_20_250_losses = pd.read_csv('./losses/model_20_250_losses')\n",
    "model_20_500_losses = pd.read_csv('./losses/model_20_500_losses')\n",
    "model_20_750_losses = pd.read_csv('./losses/model_20_750_losses')\n",
    "model_20_1000_losses = pd.read_csv('./losses/model_20_1000_losses')"
   ]
  },
  {
   "cell_type": "code",
   "execution_count": 33,
   "metadata": {
    "ExecuteTime": {
     "end_time": "2019-06-02T06:11:11.118677Z",
     "start_time": "2019-06-02T06:11:09.639797Z"
    }
   },
   "outputs": [
    {
     "data": {
      "image/png": "[encoded data removed]",
      "text/plain": [
       "<Figure size 1152x864 with 4 Axes>"
      ]
     },
     "metadata": {
      "needs_background": "light"
     },
     "output_type": "display_data"
    }
   ],
   "source": [
    "fix, ax = plt.subplots(2, 2, figsize=(16, 12))\n",
    "\n",
    "model_20_250_losses.plot(ax=ax[0][0])\n",
    "ax[0][0].set_title('model_20_250', size=15)\n",
    "\n",
    "model_20_500_losses.plot(ax=ax[0][1])\n",
    "ax[0][1].set_title('model_20_500', size=15)\n",
    "\n",
    "model_20_750_losses.plot(ax=ax[1][0])\n",
    "ax[1][0].set_title('model_20_750', size=15)\n",
    "\n",
    "model_20_1000_losses.plot(ax=ax[1][1])\n",
    "ax[1][1].set_title('model_20_1000', size=15);"
   ]
  },
  {
   "cell_type": "markdown",
   "metadata": {},
   "source": [
    "As the number of <b>rnn_size</b> increases, it overfits faster that we can see from the graph valid loss increases as well. However by the looks of the plots, using small rnn_size stops learning earlier than larger sizes so such parameters should be chosen carefully by exploring more combinations."
   ]
  },
  {
   "cell_type": "markdown",
   "metadata": {
    "colab_type": "text",
    "id": "N7AFWOGIPGOz"
   },
   "source": [
    "## Prediction"
   ]
  },
  {
   "cell_type": "markdown",
   "metadata": {
    "colab_type": "text",
    "id": "-RZSG2LtPGPL"
   },
   "source": [
    "### Headline Generation"
   ]
  },
  {
   "cell_type": "code",
   "execution_count": 64,
   "metadata": {
    "ExecuteTime": {
     "end_time": "2019-06-02T07:33:34.569397Z",
     "start_time": "2019-06-02T07:33:34.552106Z"
    },
    "colab": {},
    "colab_type": "code",
    "id": "42qr2kpHfBu8"
   },
   "outputs": [],
   "source": [
    "def generate_headlines(model_name, starting_words, input_length, rnn_size):\n",
    "  \n",
    "    tf.reset_default_graph() \n",
    "\n",
    "    with tf.Session() as sess:\n",
    "\n",
    "        model_path = 'model/'\n",
    "        model = Model(input_length=input_length, rnn_size=rnn_size, vocab_size=vocab_size)\n",
    "\n",
    "        try:\n",
    "            model.saver.restore(sess, model_path+model_name)\n",
    "            print(f'Model {model_name} Restored')\n",
    "            \n",
    "        except:\n",
    "            print(f'Model {f} does not exist')\n",
    "            return None\n",
    "          \n",
    "        generated_sentences = []\n",
    "        \n",
    "\n",
    "        \n",
    "        for starting_word in starting_words:\n",
    "\n",
    "            generated = [start] + numerize(starting_word)\n",
    "\n",
    "            while len(generated) < input_length:\n",
    "\n",
    "                # Pad current generated sentence to match the input_length\n",
    "                padded = generated[:input_length] + [pad] * (input_length - len(generated))\n",
    "                padded = np.array([padded])\n",
    "\n",
    "                feed = {model.input_num : padded}\n",
    "\n",
    "                logits = sess.run([model.logits], feed_dict=feed)\n",
    "\n",
    "                last_logits = logits[0][0][len(generated)-1][5:]\n",
    "\n",
    "                generated.append(np.argmax(last_logits)+5)\n",
    "\n",
    "\n",
    "            generated_sentence = translate_numerized(generated)\n",
    "\n",
    "            generated_sentences.append(generated_sentence)\n",
    "            \n",
    "    return generated_sentences"
   ]
  },
  {
   "cell_type": "code",
   "execution_count": 65,
   "metadata": {
    "ExecuteTime": {
     "end_time": "2019-06-02T07:33:34.784945Z",
     "start_time": "2019-06-02T07:33:34.775435Z"
    },
    "colab": {},
    "colab_type": "code",
    "id": "ltrf-ZENfV1Z"
   },
   "outputs": [],
   "source": [
    "starting_words = ['court', 'samsung', 'apple', 'google', 'google and apple', 'google and samsung', 'samsung and apple']"
   ]
  },
  {
   "cell_type": "code",
   "execution_count": 66,
   "metadata": {
    "ExecuteTime": {
     "end_time": "2019-06-02T07:33:51.508444Z",
     "start_time": "2019-06-02T07:33:34.960489Z"
    },
    "colab": {
     "base_uri": "https://localhost:8080/",
     "height": 581
    },
    "colab_type": "code",
    "id": "3tcP_foAgTMK",
    "outputId": "0fb3202f-d9d6-4af4-976b-2bb7545b10ff"
   },
   "outputs": [
    {
     "name": "stdout",
     "output_type": "stream",
     "text": [
      "INFO:tensorflow:Restoring parameters from model/model_20_250\n",
      "Model model_20_250 Restored\n",
      "INFO:tensorflow:Restoring parameters from model/model_20_500\n",
      "Model model_20_500 Restored\n",
      "INFO:tensorflow:Restoring parameters from model/model_20_750\n",
      "Model model_20_750 Restored\n",
      "INFO:tensorflow:Restoring parameters from model/model_20_1000\n",
      "Model model_20_1000 Restored\n"
     ]
    }
   ],
   "source": [
    "pred_20_250 = generate_headlines(model_20_250, starting_words, input_length=20, rnn_size=250)\n",
    "pred_20_500 = generate_headlines(model_20_500, starting_words, input_length=20, rnn_size=500)\n",
    "pred_20_750 = generate_headlines(model_20_750, starting_words, input_length=20, rnn_size=750)\n",
    "pred_20_1000 = generate_headlines(model_20_1000, starting_words, input_length=20, rnn_size=1000)"
   ]
  },
  {
   "cell_type": "code",
   "execution_count": 67,
   "metadata": {
    "ExecuteTime": {
     "end_time": "2019-06-02T07:33:51.515108Z",
     "start_time": "2019-06-02T07:33:51.510819Z"
    },
    "colab": {
     "base_uri": "https://localhost:8080/",
     "height": 119
    },
    "colab_type": "code",
    "id": "v4tlMwbHv-HA",
    "outputId": "0d5197a0-ed2e-403a-9a86-481fb0533a2c"
   },
   "outputs": [
    {
     "data": {
      "text/plain": [
       "['<START> court says apple must pay $ 1 billion in taxes in patent case - sources say wsj says wsj',\n",
       " '<START> samsung loses bid for patent infringement case against apple in germany case against samsung galaxy tab : what it',\n",
       " \"<START> apple is said for plan for tv series with new iphone x - here's what it looks like in\",\n",
       " \"<START> google says it will be forgotten ' right ' in china ' eu antitrust probe by mps over data\",\n",
       " \"<START> google and apple pay in china over iphone 5 ' month ' in china ' in the u.s .\",\n",
       " '<START> google and samsung are said in talks with mobile software on mobile phones - wsj says it will be',\n",
       " '<START> samsung and apple are said in talks with samsung over tablet sales in china - report says no iphone']"
      ]
     },
     "execution_count": 67,
     "metadata": {},
     "output_type": "execute_result"
    }
   ],
   "source": [
    "pred_20_250"
   ]
  },
  {
   "cell_type": "code",
   "execution_count": 68,
   "metadata": {
    "ExecuteTime": {
     "end_time": "2019-06-02T07:33:51.538568Z",
     "start_time": "2019-06-02T07:33:51.517429Z"
    },
    "colab": {
     "base_uri": "https://localhost:8080/",
     "height": 119
    },
    "colab_type": "code",
    "id": "x4pKB9DqwBzu",
    "outputId": "704728cc-e800-409e-916d-7fc3916fc0e6"
   },
   "outputs": [
    {
     "data": {
      "text/plain": [
       "['<START> court rules in favor of apple iphone 4s delayed in china after report of iphone 4s launch claims in',\n",
       " '<START> samsung loses bid for apple in japan patent case : u.s. appeals court ruling on samsung phone ban :',\n",
       " '<START> apple iphone 5 : review roundup : the best deals ! the world ? not so much yet ?',\n",
       " '<START> google and facebook are the most in the high for the tech industry market market cap in the week',\n",
       " \"<START> google and apple face new privacy concerns in france probe of youtube ads in india crackdown probe says '\",\n",
       " \"<START> google and samsung are not a war on the apple car project : ' we are not so much\",\n",
       " '<START> samsung and apple end patent fight with u.s. smartphone market war with u.s . . . ) says on']"
      ]
     },
     "execution_count": 68,
     "metadata": {},
     "output_type": "execute_result"
    }
   ],
   "source": [
    "pred_20_500"
   ]
  },
  {
   "cell_type": "code",
   "execution_count": 69,
   "metadata": {
    "ExecuteTime": {
     "end_time": "2019-06-02T07:33:51.565214Z",
     "start_time": "2019-06-02T07:33:51.544202Z"
    },
    "colab": {
     "base_uri": "https://localhost:8080/",
     "height": 119
    },
    "colab_type": "code",
    "id": "Tq4-mqfFwBrW",
    "outputId": "1dfae6b6-d75b-4840-c2a9-19442ff63aa0"
   },
   "outputs": [
    {
     "data": {
      "text/plain": [
       "['<START> court says facebook must pay $ 1 billion in virtual reality lawsuit case case case case against facebook data',\n",
       " '<START> samsung says it will release a new apple tv and security for its own xbox one shows what it',\n",
       " '<START> apple iphone 4s event : watch review : what it happened on how the ipad pro fire is better',\n",
       " \"<START> google launches new chrome browser for android users with apple's ipad and iphone 8 owners on mac devices in\",\n",
       " '<START> google and apple are reportedly building a car that can compete with the iphone that that could be affected',\n",
       " '<START> google and samsung face smartphone makers in europe trial for android devices and more control 8.1 of times android',\n",
       " \"<START> samsung and apple are reportedly a new smartphone in the u.s . . . . . . it's great\"]"
      ]
     },
     "execution_count": 69,
     "metadata": {},
     "output_type": "execute_result"
    }
   ],
   "source": [
    "pred_20_750"
   ]
  },
  {
   "cell_type": "code",
   "execution_count": 70,
   "metadata": {
    "ExecuteTime": {
     "end_time": "2019-06-02T07:33:51.585660Z",
     "start_time": "2019-06-02T07:33:51.570221Z"
    },
    "colab": {
     "base_uri": "https://localhost:8080/",
     "height": 119
    },
    "colab_type": "code",
    "id": "nKvGnlnewBh2",
    "outputId": "583893d3-99da-4009-a6a5-99e4a9619907"
   },
   "outputs": [
    {
     "data": {
      "text/plain": [
       "['<START> court says samsung case loss on apple is infringe patents in patent case case against filing suit against suit',\n",
       " '<START> samsung galaxy products beats apple as new galaxy s smartphone 3 drop in the u.s . . on net',\n",
       " '<START> apple says it will add more than itunes in the u.s . . . 100 percent because why is',\n",
       " '<START> google says it will pay $ 100 million in eu over security in security and for the company will',\n",
       " '<START> google and apple have a huge investment in the cloud wars with technology and amazon and not complicated .',\n",
       " \"<START> google and samsung in sign deal for a new deal with machine learning and tv shows why they can't\",\n",
       " \"<START> samsung and apple ' top pick ' for ipad turns too late ' : ' edition isn't not a\"]"
      ]
     },
     "execution_count": 70,
     "metadata": {},
     "output_type": "execute_result"
    }
   ],
   "source": [
    "pred_20_1000"
   ]
  },
  {
   "cell_type": "markdown",
   "metadata": {
    "colab_type": "text",
    "id": "rt4f4nHHPGPP"
   },
   "source": [
    "# Conclusion"
   ]
  },
  {
   "cell_type": "code",
   "execution_count": 88,
   "metadata": {
    "ExecuteTime": {
     "end_time": "2019-06-02T08:37:53.301810Z",
     "start_time": "2019-06-02T08:37:51.595906Z"
    }
   },
   "outputs": [
    {
     "name": "stdout",
     "output_type": "stream",
     "text": [
      "INFO:tensorflow:Restoring parameters from model/model_20_750\n",
      "Model model_20_750 Restored\n"
     ]
    },
    {
     "data": {
      "text/plain": [
       "['<START> to end this post , a former facebook post has found a new york president in the 2016 -']"
      ]
     },
     "execution_count": 88,
     "metadata": {},
     "output_type": "execute_result"
    }
   ],
   "source": [
    "# A weird conclusion\n",
    "\n",
    "generate_headlines(model_20_750, ['to end this post,'], input_length=20, rnn_size=750)"
   ]
  },
  {
   "cell_type": "markdown",
   "metadata": {},
   "source": [
    "Obviously, in the process of building up a model, I got to figure out more about how to properly use LSTM cells from tensorflow and use masking to only extract wanted embeddings. "
   ]
  },
  {
   "cell_type": "markdown",
   "metadata": {},
   "source": [
    "There are already many other and much better models than this such as bi-LSTM model, BERT or transformer that could predict and generate much longer sentences."
   ]
  },
  {
   "cell_type": "markdown",
   "metadata": {},
   "source": [
    "Each model used in the post, was only trained to generate 20 words at max that the predictions ended before it reached proper ending. This can be easily increased by modifying the data used and padding them more. This will cause the training slower obviously so I could not do it due to the lack of resources."
   ]
  },
  {
   "cell_type": "markdown",
   "metadata": {},
   "source": [
    "As mentioned above, I cannot provide the data I used without having their consent but you can still get the weights of each model at [my drive](https://drive.google.com/open?id=1BkG8Xr8eBldwGhhUvazrGCoS5RzPHKM_) and view the full code to load them at [my github](https://github.com/hsong1101/Text-Generation). For the weights, you should download everything to load."
   ]
  },
  {
   "cell_type": "markdown",
   "metadata": {},
   "source": [
    "Again, thank you for reading this and if you find any errors, typos or have any suggestions, please let me know."
   ]
  }
 ],
 "metadata": {
  "accelerator": "GPU",
  "colab": {
   "collapsed_sections": [],
   "name": "Text Generation.ipynb",
   "provenance": [],
   "version": "0.3.2"
  },
  "kernelspec": {
   "display_name": "Python 3",
   "language": "python",
   "name": "python3"
  },
  "language_info": {
   "codemirror_mode": {
    "name": "ipython",
    "version": 3
   },
   "file_extension": ".py",
   "mimetype": "text/x-python",
   "name": "python",
   "nbconvert_exporter": "python",
   "pygments_lexer": "ipython3",
   "version": "3.7.3"
  }
 },
 "nbformat": 4,
 "nbformat_minor": 1
}
